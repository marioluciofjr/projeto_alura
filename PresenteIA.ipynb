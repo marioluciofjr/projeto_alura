{
  "nbformat": 4,
  "nbformat_minor": 0,
  "metadata": {
    "colab": {
      "provenance": [],
      "authorship_tag": "ABX9TyPtNWvHUGHaHXAHaRW2St+z",
      "include_colab_link": true
    },
    "kernelspec": {
      "name": "python3",
      "display_name": "Python 3"
    },
    "language_info": {
      "name": "python"
    }
  },
  "cells": [
    {
      "cell_type": "markdown",
      "metadata": {
        "id": "view-in-github",
        "colab_type": "text"
      },
      "source": [
        "<a href=\"https://colab.research.google.com/github/marioluciofjr/projeto_alura/blob/main/PresenteIA.ipynb\" target=\"_parent\"><img src=\"https://colab.research.google.com/assets/colab-badge.svg\" alt=\"Open In Colab\"/></a>"
      ]
    },
    {
      "cell_type": "markdown",
      "source": [
        "# **AJUSTANDO O PAINEL DE CONTROLE**\n",
        "\n",
        "Antes de aproveitar o código, deve-se fazer as devidas importações de pacotes, colocar a APY KEY (o método utilizado está no final da Aula 4, mas pretendo explicar no Read Me do repositório), ajustar os parâmetros e escolher o modelo generativo."
      ],
      "metadata": {
        "id": "KS5mplTtExGO"
      }
    },
    {
      "cell_type": "code",
      "source": [
        "# Instalando a biblioteca do Google para IA. Utilizando a técnica \"-q -U\" para uma instalação silenciosa e sempre atualizada.\n",
        "!pip install -q -U google-generativeai"
      ],
      "metadata": {
        "id": "S3LJfkcvYry_"
      },
      "execution_count": 1,
      "outputs": []
    },
    {
      "cell_type": "code",
      "source": [
        "# Bora importar os pacotes necessários. Utilizei a técnica do Secrets do Google Colab (Valeu, Fabrício Carraro!)\n",
        "import google.generativeai as genai\n",
        "\n",
        "from google.colab import userdata\n",
        "chave_secreta = userdata.get('pepe_ja_tirei_a_vela') # Fãs de Chapolin entenderam a referência\n",
        "\n",
        "genai.configure(api_key=chave_secreta)"
      ],
      "metadata": {
        "id": "m4UlhLk8YxmO"
      },
      "execution_count": 2,
      "outputs": []
    },
    {
      "cell_type": "code",
      "source": [
        "# Na aula 4 estava uma temperatura de 0.5, mas quero mais liberdade e criatividade para o nosso Gemini\n",
        "configurações = {\n",
        "  \"candidate_count\": 1,\n",
        "  \"temperature\": 0.75,\n",
        "  \"top_k\": 40,\n",
        "  \"top_p\": 0.95,\n",
        "\n",
        "}\n",
        "\n",
        "# Os filtros de segurança estão no modo padrão\n",
        "filtros = {\n",
        "    'HATE': 'BLOCK_NONE',\n",
        "    'HARASSMENT': 'BLOCK_NONE',\n",
        "    'SEXUAL' : 'BLOCK_NONE',\n",
        "    'DANGEROUS' : 'BLOCK_NONE'\n",
        "    }"
      ],
      "metadata": {
        "id": "ptdaozM2qhIj"
      },
      "execution_count": 8,
      "outputs": []
    },
    {
      "cell_type": "code",
      "source": [
        "# Escolhi o modelo que está mais testado\n",
        "model = genai.GenerativeModel(model_name='gemini-1.0-pro',\n",
        "                                  generation_config=configurações,\n",
        "                                  safety_settings=filtros,)"
      ],
      "metadata": {
        "id": "BseBm00aY97u"
      },
      "execution_count": 9,
      "outputs": []
    },
    {
      "cell_type": "markdown",
      "source": [
        "# **DICAS PARA APROVEITAR MELHOR A PARTE DO GEMINI**\n",
        "\n",
        "Forneça o máximo de detalhes possíveis nos inputs abaixo, principalmente em características e lazer. Quanto mais informações você fornecer, mais precisas e personalizadas serão as sugestões de presentes.\n",
        "\n"
      ],
      "metadata": {
        "id": "MThzOFY1vjbC"
      }
    },
    {
      "cell_type": "code",
      "source": [
        "# Aqui são os inputs básicos para alimentar o prompt\n",
        "status_de_relacionamento = input(\"Digite o status de relacionamento: \")\n",
        "características = input(\"Digite as características: \")\n",
        "lazer = input(\"Digite o tipo de lazer: \")\n",
        "ocasião = input(\"Digite a ocasião: \")\n",
        "dinheiro_disponível = input(\"Digite o valor do dinheiro disponível: \")\n",
        "print(\"-------------------------------\")\n",
        "\n",
        "# O prompt está grande, mas quis ser bem específico para obter a melhor resposta possível\n",
        "response = model.generate_content(f\"\"\"{status_de_relacionamento} significa o que a pessoa é para mim (mãe, pai, namorada(o), ficante, colega, amiga(o), desconhecida(o) etc.)\n",
        "{características} significam um conjunto de características físicas e psicológicas que compreendo dessa pessoa.\n",
        "{lazer} é como eu enxergo que essa pessoa se diverte nas horas que não estão trabalhando, estudando ou se ocupando.\n",
        "{ocasião} é a data em si que merece esse presente especial.\n",
        "{dinheiro_disponível} tem a ver com a disposição que tenho de orçamento para comprar esse presente.\n",
        "\n",
        "Termo de busca é uma palavra-chave para utilizar na barra de pesquisa do Google, por exemplo. Neste caso será para usar como pesquisa em um site de e-comerce como o Mercado Livre.\n",
        "Exemplos de termos de busca excelentes: 'Kit churrasco gourmet', 'livro de ficção', 'panela elétrica', 'fone de ouvido sem fio', 'velas aromáticas' etc.\n",
        "\n",
        "A partir do contexto acima, siga os seguintes passos:\n",
        "\n",
        "1. Analise os dados informados como status de relacionamento, características, lazer e ocasião.\n",
        "2, Faça uma lista de 3 termos de busca diferentes para e-commerce que combinem o máximo possível com os detalhes informados anteriormente.\n",
        "3. Os termos de busca estarão formatados com título H2.\n",
        "4. Uma breve descrição de 2 ou 3 linhas acompanhará os termos de busca, a fim de contextualizar sua indicação e mostrar os benefícios daquele presente.\n",
        "5. Ao final, dê 2 dicas financeiras a partir do valor informado em dinheiro disponível. Leve em consideração os conceitos das finanças comportamentais de Daniel Kahneman.\n",
        "\n",
        "REGRAS\n",
        "\n",
        "1. Criatividade é muito bem-vinda, mas lembre-se que os termos de busca precisam fazer sentido para pesquisar em um e-commerce. Fornecer algo como\n",
        "\"café colhido com carinho na Colômbia\" não faz muito sentido numa busca, concorda? Opte por termos de busca práticos e diretos como \"notebook com processador intel core i7\", que seria\n",
        "uma recomendação boa para pessoas que precisam utilizar bastante o computador para trabalho/estudo.\n",
        "\n",
        "2. As dicas financeiras precisam ser conselhos bem-humorados, mas sem esquecer da importância que a pessoa tem para mim e que relatei tanto no status de relacionamento quanto nas características.\n",
        "\n",
        "3. Se algum campo que deveria ser informado estiver vazio ou com algo genérico como \"Não sei\". Analise essa resposta como uma indecisão. Nesse caso e somente neste caso, acrescente\n",
        "dicas para que eu entenda mais sobre a pessoa relatada no status de relacionamento.\n",
        "\n",
        "\n",
        "EXEMPLOS DE COMO DEVE VIR SUA RESPOSTA\n",
        "\n",
        "Termo de busca 1: 'Kit churrasco gourmet'\n",
        "\n",
        "Descrição: Um kit completo com tudo que a pessoa precisa para preparar um churrasco inesquecível,\n",
        "incluindo grelha portátil, utensílios de qualidade, temperos especiais e até mesmo um livro de receitas com cortes e\n",
        "técnicas diferenciadas. Ideal para quem ama cozinhar ao ar livre e reunir amigos e familiares.\n",
        "\n",
        "Termo de busca 2: 'Camisa nova do Corinthians'\n",
        "\n",
        "Descrição: A camisa do Corinthians é mais do que um simples item de vestuário, é um símbolo de paixão, orgulho e tradição para milhões de torcedores apaixonados.\n",
        "Se você quer presentear alguém que vibra com o Timão, essa é uma escolha certeira que certamente vai emocionar e agradar!\n",
        "\n",
        "Termo de busca 3: 'panela elétrica'\n",
        "\n",
        "Descrição: Ideal para quem busca praticidade no dia a dia. A maioria dos modelos possui revestimento antiaderente, facilitando a limpeza após o uso.\n",
        "Com sistema de desligamento automático, a panela elétrica evita acidentes e garante maior segurança durante o uso. A pessoa que você vai presentear vai simplesmente amar.\n",
        "\n",
        "Dica financeira 1: Nossa mente adora atalhos. O primeiro preço que vemos se torna uma 'âncora' para avaliar o que vem depois.\n",
        "Então, antes de sair gastando seus R$200 na primeira loja, pesquise! Compare preços online, visite diferentes lugares, explore opções.\n",
        "Você pode descobrir que aquele item \"imperdível\" está muito mais barato em outro lugar, ou até achar algo ainda melhor pelo mesmo valor.\n",
        "Lembre-se, sua âncora é R$200, não o primeiro preço que encontrar!\n",
        "\n",
        "Dica financeira 2: Digamos que você já gastou R$150 em um presente, mas não está totalmente convencido.\n",
        "A falácia dos custos irrecuperáveis nos faz querer insistir em algo só porque já investimos tempo, dinheiro ou esforço.\n",
        "Não caia nessa! Se o presente não está ideal, seja honesto consigo mesmo. Melhor trocar ou buscar outra opção do que ficar com algo que não vai agradar,\n",
        "mesmo que isso signifique \"perder\" os R$150. Pense que está investindo na felicidade da pessoa (e na sua tranquilidade)!\n",
        "\n",
        "---------------------------\n",
        "\n",
        "Termo de busca 1: 'Cafeteira italiana'\n",
        "Descrição: Um presente clássico e elegante para os amantes de café. A cafeteira italiana, também conhecida como Moka,\n",
        "produz um café encorpado e saboroso, perfeito para começar o dia ou para um momento de relaxamento.\n",
        "Escolha um modelo que combine com a personalidade da pessoa que você vai presentear e prepare-se para arrancar suspiros de felicidade.\n",
        "\n",
        "Termo de busca 2: 'Kindle Paperwhite'\n",
        "Descrição: Para os amantes da leitura, o Kindle Paperwhite é um presente perfeito.\n",
        "Com tela antirreflexo e iluminação embutida, permite a leitura confortável em qualquer ambiente, mesmo sob a luz do sol.\n",
        "A bateria de longa duração e a capacidade de armazenar milhares de livros tornam-no ideal para viagens e momentos de relaxamento.\n",
        "\n",
        "Termo de busca 3: 'Fone de ouvido sem fio'\n",
        "Descrição: Um presente prático e versátil para pessoas de todas as idades.\n",
        "Fones de ouvido sem fio oferecem liberdade de movimento e qualidade de som, sendo perfeitos para ouvir música,\n",
        "podcasts ou atender chamadas enquanto realiza outras atividades. Escolha um modelo com bom isolamento de ruído e bateria de longa duração para uma experiência ainda melhor.\n",
        "\n",
        "Dica financeira 1: Não se deixe levar pela impulsividade! Antes de sair comprando o primeiro item que chamar sua atenção, pesquise e compare preços em diferentes lojas físicas e online.\n",
        "Utilize ferramentas de comparação de preços e fique atento a promoções e descontos. Lembre-se, o objetivo é encontrar o melhor presente pelo melhor preço, sem comprometer seu orçamento.\n",
        "\n",
        "Dica financeira 2: Se você já comprou um presente, mas está com dúvidas se a pessoa realmente vai gostar, não hesite em trocá-lo.\n",
        "Muitas lojas oferecem políticas de troca flexíveis, permitindo que você encontre algo mais adequado sem perder seu investimento.\n",
        "O importante é garantir que o presente seja significativo e traga alegria para quem o receber.\n",
        "\n",
        "\"\"\")\n",
        "\n",
        "# Aproveitei as linhas de código da Aula 4 para deixar o resultado apresentável\n",
        "import textwrap\n",
        "from IPython.display import display\n",
        "from IPython.display import Markdown\n",
        "\n",
        "def to_markdown(text):\n",
        "  text = text.replace('•', '  *')\n",
        "  return Markdown(textwrap.indent(text, '> ', predicate=lambda _: True))\n",
        "\n",
        "print(\"🤖 CONSELHOS DO GEMINI\")\n",
        "display(to_markdown(response.text))"
      ],
      "metadata": {
        "id": "TTHMOSUpnaZN"
      },
      "execution_count": null,
      "outputs": []
    },
    {
      "cell_type": "markdown",
      "source": [
        "# **PARTE DA PESQUISA NO MERCADO LIVRE**\n",
        "\n",
        "Agora você pode pesquisar os termos de busca que o Gemini forneceu e encontrar boas opções de compra ao clicar nos links fornecidos pelo código abaixo.\n"
      ],
      "metadata": {
        "id": "FcPtQi5mqq3p"
      }
    },
    {
      "cell_type": "code",
      "source": [
        "# Importando bibliotecas necessárias\n",
        "import requests\n",
        "from bs4 import BeautifulSoup\n",
        "\n",
        "def pesquisar_mercado_livre(termo_busca, filtros=None):\n",
        "  \"\"\"\n",
        "  Pesquisa produtos no Mercado Livre e retorna uma lista com os 10 melhores resultados para aquela palavra-chave.\n",
        "\n",
        "  Args:\n",
        "      termo_busca (str): O termo a ser pesquisado.\n",
        "      filtros (dict, optional): Um dicionário com filtros de pesquisa. Defaults to None.\n",
        "\n",
        "  Returns:\n",
        "      list: Uma lista de dicionários, cada um contendo o título e o link do produto.\n",
        "  \"\"\"\n",
        "  # URL base para pesquisa no Mercado Livre\n",
        "  url_base = \"https://lista.mercadolivre.com.br/\"\n",
        "\n",
        "  # Construir a URL de pesquisa\n",
        "  url_pesquisa = url_base + termo_busca\n",
        "\n",
        "  # Adicionar filtros à URL, se houver\n",
        "  if filtros:\n",
        "    for chave, valor in filtros.items():\n",
        "      url_pesquisa += f\"&{chave}={valor}\"\n",
        "\n",
        "  # Fazer a requisição para a página de resultados\n",
        "  resposta = requests.get(url_pesquisa)\n",
        "\n",
        "  # Verificar se a requisição foi bem sucedida\n",
        "  if resposta.status_code == 200:\n",
        "    # Parsear o conteúdo HTML da página\n",
        "    soup = BeautifulSoup(resposta.content, \"html.parser\")\n",
        "\n",
        "    # Encontrar todos os elementos de produtos\n",
        "    resultados = soup.find_all(\"li\", class_=\"ui-search-layout__item\")\n",
        "\n",
        "    # Extrair informações dos produtos\n",
        "    produtos = []\n",
        "    for resultado in resultados[:10]:\n",
        "      titulo = resultado.find(\"h2\", class_=\"ui-search-item__title\").text.strip()\n",
        "      link = resultado.find(\"a\", class_=\"ui-search-link\")[\"href\"]\n",
        "      produtos.append({\"titulo\": titulo, \"link\": link})\n",
        "\n",
        "    return produtos\n",
        "  else:\n",
        "    print(\"Erro ao fazer a requisição. Código de status:\", resposta.status_code)\n",
        "    return []\n",
        "\n",
        "# Input do termo de busca dado pelo Gemini\n",
        "termo_busca = input(\"Digite aqui a sugestão do Gemini para pesquisar no Mercado Livre: \")\n",
        "\n",
        "# Adicione filtros na sua busca se houver necessidade\n",
        "# filtros = {\"marca\": \"Samsung\", \"frete\": \"grátis\"} # Coloquei essa parte como comentário, pois ela é opcional.\n",
        "# Caso habilite os filtros, coloque assim abaixo 'resultados = pesquisar_mercado_livre(termo_busca, filtros)'\n",
        "\n",
        "resultados = pesquisar_mercado_livre(termo_busca)\n",
        "print(\"###########\")\n",
        "\n",
        "for produto in resultados:\n",
        "  print(f\"Título: {produto['titulo']}\")\n",
        "  print(f\"Link: {produto['link']}\")\n",
        "  print(\"-----\")"
      ],
      "metadata": {
        "id": "eQ2TOVF8MFIJ"
      },
      "execution_count": null,
      "outputs": []
    }
  ]
}